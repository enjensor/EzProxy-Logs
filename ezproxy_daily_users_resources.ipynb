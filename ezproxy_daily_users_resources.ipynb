{
 "cells": [
  {
   "cell_type": "markdown",
   "metadata": {},
   "source": [
    "# EzProxy Daily : Detailed Hourly View of Resource Use"
   ]
  },
  {
   "cell_type": "markdown",
   "metadata": {},
   "source": [
    "***This runs best in Jupyter, either on a local machine or on a server you have file access to.*** \n",
    "\n",
    "***You use this script when you want to review an hour in detail after seeing the hourly use and hourly load in the EzProxy Daily Resources routine***\n",
    "\n",
    "To review total use of EzProxy, make sure you place the audit logs into the /data folder and that they are named in the syntax of \"YYYYMMDD.txt\" (for example, \"20190314.txt\"). These audit files are usually in the /audit sub-folder of your EzProxy application folder on the server. Your audit logs will need to be in the following format:\n",
    "\n",
    "> **%h %{ezproxy-session}i %u %t \"%r\" %s %b**\n",
    "\n",
    "Please also maked sure that you place the EzProxy log files in the /data_e folder and that they are named in the syntax of \"ezproxyYYYYMMDD.log\" (for example, \"ezproxy20190101.log\"). These ezproxy files are usually in the /log sub-folder of your EzProxy application folder on the server. Your EzProxy logs will need to be in the following format, which is slightly different from the audit log format:\n",
    "\n",
    "> **%h %{ezproxy-session}i %U %u %t \"%r\" %s %b**\n",
    "\n",
    "Once you have some files in the approprate data folders, *run all cells*. If there are no warnings or errors, then you will be presented with a calendar dropdown menu, from which you can select the date for review, and a dropdown list of 24 hours, from which you can select the hour for review. Once you select a date and hour, click the 'View' button to see the top 50 users in terms of web requests and downloads. A map will also show where the top user is accessing EzProxy from."
   ]
  },
  {
   "cell_type": "markdown",
   "metadata": {},
   "source": [
    "# Activate all cells"
   ]
  },
  {
   "cell_type": "code",
   "execution_count": 1,
   "metadata": {},
   "outputs": [
    {
     "name": "stdout",
     "output_type": "stream",
     "text": [
      "[NbConvertApp] Converting notebook ezproxy_daily_users_resources.ipynb to script\n",
      "[NbConvertApp] Writing 20057 bytes to ezproxy_daily_users_resources.py\n"
     ]
    }
   ],
   "source": [
    "#Backup python script\n",
    "import os\n",
    "!jupyter nbconvert --to script ezproxy_daily_users_resources.ipynb\n",
    "os.rename(\"./ezproxy_daily_users_resources.py\", \"./py/ezproxy_daily_users_resources.py\")"
   ]
  },
  {
   "cell_type": "code",
   "execution_count": 2,
   "metadata": {},
   "outputs": [],
   "source": [
    "# FRESH ANACONDA INSTALL\n",
    "# export PATH=/anaconda3/bin:$PATH\n",
    "# conda config --add channels conda-forge\n",
    "# conda install -c conda-forge proj4\n",
    "# conda install -c anaconda mysql-connector-python\n",
    "# conda install -c conda-forge cartopy\n",
    "# conda install -c conda-forge tldextract\n",
    "# conda install -c conda-forge basemap\n",
    "# conda install -c conda-forge basemap-data-hires\n",
    "# conda install -c conda-forge ipywidgets\n",
    "# conda install -c conda-forge folium\n",
    "# conda install -c conda-forge pyzmq\n",
    "# conda install -c conda-forge jupyterlab\n",
    "# conda install -c conda-forge nodejs\n",
    "# conda install python=3.6.7\n",
    "# jupyter nbextension enable --py widgetsnbextension\n",
    "# jupyter labextension install @jupyter-widgets/jupyterlab-manager\n",
    "# jupyter lab build"
   ]
  },
  {
   "cell_type": "code",
   "execution_count": 3,
   "metadata": {},
   "outputs": [],
   "source": [
    "#Python Modules\n",
    "import numpy as np\n",
    "import pandas as pd\n",
    "import random\n",
    "import re\n",
    "import sys\n",
    "import matplotlib.pyplot as plt\n",
    "import matplotlib\n",
    "import mysql.connector\n",
    "import matplotlib.dates as mdates\n",
    "import matplotlib.patches as mpatches\n",
    "import cartopy.crs as ccrs\n",
    "os.environ['PROJ_LIB'] = '/anaconda3/share/proj'\n",
    "import requests\n",
    "import json\n",
    "import time\n",
    "import csv\n",
    "import tldextract\n",
    "from datetime import datetime, timedelta, date\n",
    "from ipywidgets import interact, interactive, interact_manual, Button, HBox, VBox, Layout, ButtonStyle\n",
    "import ipywidgets as widgets\n",
    "from IPython.display import display, clear_output, HTML\n",
    "from mpl_toolkits.basemap import Basemap\n",
    "import folium\n",
    "from folium.plugins import MarkerCluster\n",
    "pd.set_option('display.max_colwidth', -1)\n",
    "pd.set_option(\"display.max_rows\", None)\n",
    "import warnings; warnings.simplefilter('ignore')"
   ]
  },
  {
   "cell_type": "code",
   "execution_count": 4,
   "metadata": {},
   "outputs": [],
   "source": [
    "#Dates Widget\n",
    "global aDates\n",
    "now = datetime.utcnow() - timedelta(days=1)\n",
    "aDates = widgets.DatePicker(\n",
    "    description='Date',\n",
    "    disabled=False,\n",
    "    layout={'width': '260px'},\n",
    "    value=datetime(now.year,now.month,now.day)\n",
    ")"
   ]
  },
  {
   "cell_type": "code",
   "execution_count": 5,
   "metadata": {},
   "outputs": [],
   "source": [
    "#Hours Widget\n",
    "global aHours\n",
    "aHours = widgets.Dropdown(\n",
    "    options=['00','01','02','03','04','05','06','07','08','09','10','11','12','13','14','15','16','17','18','19','20','21','22','23'],\n",
    "    value='12',\n",
    "    layout={'width': '150px'},\n",
    "    description='Hour:',\n",
    "    disabled=False,\n",
    ")"
   ]
  },
  {
   "cell_type": "code",
   "execution_count": 6,
   "metadata": {},
   "outputs": [],
   "source": [
    "#Not Logged In Users Checkbox\n",
    "global aLogins\n",
    "aLogins = widgets.Checkbox(\n",
    "    value=False,\n",
    "    description='Include Unverified Users',\n",
    "    disabled=False\n",
    ")"
   ]
  },
  {
   "cell_type": "code",
   "execution_count": 7,
   "metadata": {},
   "outputs": [],
   "source": [
    "#Review users according to date and hour selected\n",
    "def on_users(b):\n",
    "    global aDates\n",
    "    global aHours\n",
    "    global data2\n",
    "    global data3\n",
    "    global data4\n",
    "    global df1\n",
    "    global df2\n",
    "    global df3\n",
    "    global df4\n",
    "    global df6\n",
    "    global df7\n",
    "    global df8\n",
    "    global df9\n",
    "    global df10\n",
    "    global tUser\n",
    "    global tUrl\n",
    "    global tIpaddress\n",
    "    global results\n",
    "    global ips\n",
    "    hValues = []\n",
    "    errorsA = []\n",
    "    today = date.today()\n",
    "    today = int(today.strftime(\"%Y%m%d\"))\n",
    "    thisDate = aDates.value\n",
    "    thisDate2 = str(aDates.value)\n",
    "    thisDate3 = int(thisDate.strftime(\"%Y%m%d\"))\n",
    "    sessDate = thisDate.strftime(\"%Y%m%d\")\n",
    "    if thisDate3  > today:\n",
    "        thisDate = date.today()\n",
    "    try:\n",
    "        with outM:\n",
    "            clear_output()\n",
    "        with outK:\n",
    "            clear_output()\n",
    "        with outJ:\n",
    "            clear_output()\n",
    "        with outH:\n",
    "            clear_output()\n",
    "        with outG:\n",
    "            clear_output()\n",
    "        with outF:\n",
    "            clear_output()\n",
    "            print(\"\\tLoading log ...\",end=\"\\n\\n\")\n",
    "        data = pd.read_csv(\"./data_e/ezproxy\" + sessDate + \".log\", sep=\" \", header=None, error_bad_lines=False, warn_bad_lines=False)\n",
    "        data.columns = [\"ipaddress\", \"sessionid\", \"url\", \"urlsessionid\", \"adate\", \"azone\", \"adomain\", \"astatus\", \"asize\"]\n",
    "        data2 = pd.DataFrame(data)\n",
    "        data2.reset_index(drop=True, inplace=True)\n",
    "        with outF:\n",
    "            print(\"\\tParsing sessions ...\",end=\"\\n\\n\")\n",
    "    except ValueError as e:\n",
    "        errorsA.append(\"Catch 1 E: \" + str(e))\n",
    "    except IOError as e:\n",
    "        errorsA.append(\"Catch 2 E: \" + str(e))\n",
    "    except:\n",
    "        errorsA.append(\"Catch 3 E: \", sys.exc_info()[0])     \n",
    "    with outF:\n",
    "        print(\"\\tConstraining to chosen hour ...\",end=\"\\n\\n\")\n",
    "    try:\n",
    "        with outF:\n",
    "            h = str(aHours.value) + \":\"\n",
    "            data3 = {\"user\":[], \"ipaddress\":[], \"sessionid\":[], \"urltime\":[], \"url\":[], \"size\":[]}\n",
    "            for i in data2.index:\n",
    "                user = data2.get_value(i,'urlsessionid')\n",
    "                ipaddress = data2.get_value(i,'ipaddress')\n",
    "                sessionid = data2.get_value(i,'sessionid')\n",
    "                adate = data2.get_value(i,'adate')\n",
    "                adatex, datex = re.split(\"\\[\", adate)\n",
    "                datex = pd.to_datetime(datex, format=\"%d/%b/%Y:%H:%M:%S\")\n",
    "                urltime = datex.strftime('%H:%M')\n",
    "                url = data2.get_value(i,'url')\n",
    "                url = url.strip(\"GET \")\n",
    "                url = url.strip(\"POST \")\n",
    "                url = url.strip(\"IONS \")\n",
    "                url = url.strip(\"HEAD \")\n",
    "                url = re.sub(\"\\-\",\".\",str(url))\n",
    "                url = re.sub(\".ezproxy.uws.edu.au\",\"\",str(url))\n",
    "                extracted = tldextract.extract(url)\n",
    "                url = extracted.domain\n",
    "                size = data2.get_value(i,'asize')\n",
    "                data3[\"user\"].append(str(user))\n",
    "                data3[\"ipaddress\"].append(str(ipaddress))\n",
    "                data3[\"sessionid\"].append(str(sessionid))\n",
    "                data3[\"urltime\"].append(str(urltime))\n",
    "                data3[\"url\"].append(str(url))\n",
    "                data3[\"size\"].append(str(size))\n",
    "            clear_output()\n",
    "            print(\"\\tEvaluating data ...\",end=\"\\n\\n\")\n",
    "            data4 = pd.DataFrame.from_dict(data3)\n",
    "            data4 = data4[(data4[\"urltime\"].str.contains(h,regex=True))]\n",
    "    except ValueError as e:\n",
    "        errorsA.append(\"Catch 4 E: \" + str(e))\n",
    "    except IOError as e:\n",
    "        errorsA.append(\"Catch 5 E: \" + str(e))\n",
    "    except:\n",
    "        errorsA.append(\"Catch 6 E: \", sys.exc_info()[0])\n",
    "    try:\n",
    "        with outF:\n",
    "            clear_output()\n",
    "            #Top 50 web requests\n",
    "            df = pd.DataFrame(data4)\n",
    "            #df.size = df.size.astype(int)\n",
    "            df[\"size\"] = df[\"size\"].astype(dtype=np.int64)\n",
    "            df1 = pd.DataFrame(df.groupby(['user'])['size'].agg(['sum','count']))\n",
    "            if aLogins.value is False:\n",
    "                df2 = df1[df1.index != \"-\"]\n",
    "                df3 = df2[df2.index != \"auto\"]\n",
    "            else:\n",
    "                df2 = df1\n",
    "                df3 = df1\n",
    "            df3 = df3.sort_values('count',ascending=False)      \n",
    "            df3 = df3.reset_index() \n",
    "            df3 = df3.drop(df3.index[50:])\n",
    "            if aLogins.value is False:\n",
    "                df0 = df2[df2.index != \"auto\"]\n",
    "            else:\n",
    "                df0 = df2\n",
    "            me = df0['count'].tolist()\n",
    "            yb = df3.iloc[0]['count']\n",
    "            yb = int(5 * round(float(yb)/5))\n",
    "            yb = yb + 5\n",
    "            df3['user'].replace('-', 'UNVERIFIED', inplace=True)\n",
    "            dc = df3['count'].tolist()\n",
    "            du = df3['user'].tolist()\n",
    "            ym = [np.mean(dc)]*len(du)\n",
    "            yn = [np.mean(me)]*len(du)\n",
    "            fig, ax = plt.subplots(figsize=(15,7))\n",
    "            ax.set_title('EzProxy Web Requests : Hour '+aHours.value,y=1.04)\n",
    "            fig.tight_layout()\n",
    "            plt.ylim([0,yb])\n",
    "            plt.xticks(fontsize=9, rotation=90)\n",
    "            blist = plt.bar(du,dc,label='User Peak (http)',color='#CCCCCC')\n",
    "            blist[0].set_color('r')\n",
    "            mean_line = ax.plot(du,ym,label='Top 50 Users Average',linestyle='--',color='b')\n",
    "            mean_line2 = ax.plot(du,yn,label='All Users Average',linestyle='--',color='g')\n",
    "            plt.legend(fontsize=12, loc='upper right')\n",
    "            plt.show()\n",
    "        with outG:\n",
    "            clear_output()\n",
    "            #Top 50 downloads\n",
    "            if aLogins.value is False:\n",
    "                df4 = df2[df2.index != \"auto\"]\n",
    "            else:\n",
    "                df4 = df2\n",
    "            df4 = df4.sort_values('sum',ascending=False)\n",
    "            df4 = df4.reset_index()\n",
    "            df4 = df4.drop(df4.index[50:])\n",
    "            df4[\"sum\"] = round(df4[\"sum\"] / 1024 / 1024)\n",
    "            if aLogins.value is False:\n",
    "                df0 = df2[df2.index != \"auto\"]\n",
    "            else:\n",
    "                df0 = df2\n",
    "            df0[\"sum\"] = round(df0[\"sum\"] / 1024 / 1024)\n",
    "            me = df0['sum'].tolist()\n",
    "            zb = df4.iloc[0]['sum']\n",
    "            zb = int(5 * round(float(zb)/5))\n",
    "            zb = zb + 5\n",
    "            df4['user'].replace('-', 'UNVERIFIED', inplace=True)\n",
    "            tUser = df4.iloc[0]['user']\n",
    "            hc = df4['sum'].tolist()\n",
    "            hu = df4['user'].tolist()\n",
    "            hn = [np.mean(hc)]*len(hu)\n",
    "            hm = [np.mean(me)]*len(hu)\n",
    "            fig, ax = plt.subplots(figsize=(15,7))\n",
    "            ax.set_title('EzProxy Download : Hour '+aHours.value,y=1.04)\n",
    "            fig.tight_layout()\n",
    "            plt.ylim([0,zb])\n",
    "            plt.xticks(fontsize=9, rotation=90)\n",
    "            blist = plt.bar(hu,hc,label='User Peak (mb)',color='#CCCCCC')\n",
    "            blist[0].set_color('r')\n",
    "            mean_line = ax.plot(hu,hn,label='Top 50 Users Average',linestyle='--',color='b')\n",
    "            mean_line2 = ax.plot(hu,hm,label='All Users Average',linestyle='--',color='g')\n",
    "            plt.legend(fontsize=12, loc='upper right')\n",
    "            plt.show()\n",
    "        with outH:\n",
    "            clear_output()\n",
    "            #Geolocate top user(s)\n",
    "            lat = []\n",
    "            lon = []\n",
    "            city = []\n",
    "            df6 = pd.DataFrame(data4)\n",
    "            df6['user'].replace('-', 'UNVERIFIED', inplace=True)\n",
    "            df6 = df6[df6.user == tUser]\n",
    "            df6 = df6.groupby(['ipaddress'], as_index=False)['ipaddress'].agg(['count'])\n",
    "            ips = df6.index.tolist()\n",
    "            ips = list(set(ips))\n",
    "            for x in ips:\n",
    "                if x != \"\":\n",
    "                    url = \"http://ip-api.com/json/\" + x\n",
    "                    r = requests.get(url)\n",
    "                    results = r.json()\n",
    "                    if len(results) > 1:\n",
    "                        if 'lat' in results:\n",
    "                            lat.append(results['lat'])\n",
    "                            lon.append(results['lon'])\n",
    "                            city.append(results['city'])\n",
    "                    time.sleep(1.0)\n",
    "            if aLogins.value is False:\n",
    "                plt.figure(figsize=(19, 15))\n",
    "                m = Basemap(projection=\"lcc\", width=9E6, height=5E6, lat_0=lat[0], lon_0=lon[0])\n",
    "                m.shadedrelief()\n",
    "                for i in range(0,len(lat)):\n",
    "                    x,y = m(lon[i],lat[i])\n",
    "                    m.plot(x, y, 'or', markersize=15, alpha=1.0)\n",
    "                    plt.text(x, y, \"   \"+city[i], fontsize=11, color='black', ha='left', va='center')\n",
    "                plt.title('Download Location(s) for User : '+tUser,y=1.04)\n",
    "                plt.show();\n",
    "            else:\n",
    "                plt.figure(figsize=(17,17))\n",
    "                ax = plt.axes(projection=ccrs.PlateCarree())\n",
    "                ax.set_title('Download Location(s) for User : '+tUser,y=1.04)\n",
    "                ax.set_global()\n",
    "                ax.coastlines(linewidth=0.6)\n",
    "                ax.stock_img()\n",
    "                ax.gridlines(xlocs=range(-180,181,40), ylocs=range(-80,81,20),draw_labels=False)\n",
    "                ax.gridlines(xlocs=range(-140,181,40), ylocs=range(-80,81,20),draw_labels=True)\n",
    "                ax.text(-0.05,0,'Latitude', transform=ax.transAxes, rotation='vertical', va='bottom')\n",
    "                ax.text(0,-0.07,'Longitude', transform=ax.transAxes, ha='left')\n",
    "                for i in range(0,len(lat)):\n",
    "                    ax.plot(lon[i], lat[i], marker='o', markersize=10, markerfacecolor='#FF0000')\n",
    "                plt.show();\n",
    "        with outJ:\n",
    "            clear_output()\n",
    "            #Resource Use\n",
    "            df8 = pd.DataFrame(data4)\n",
    "            df8 = df8.groupby(['url'], as_index=False)['size'].agg(['sum','count'])\n",
    "            if aLogins.value is False:\n",
    "                df8 = df8[df8.index != \"auto\"]\n",
    "                df8 = df8[df8.index != \"\"]\n",
    "            df8 = df8.sort_values('sum',ascending=False)      \n",
    "            df8 = df8.reset_index()\n",
    "            df8[\"sum\"] = round(df8[\"sum\"] / 1024 / 1024)\n",
    "            df8 = df8.drop(df8.index[50:])\n",
    "            df9 = pd.DataFrame(data4)\n",
    "            df9 = df9[df9.user == tUser]\n",
    "            df9 = df9.groupby(['url'], as_index=False)['size'].agg(['sum','count'])\n",
    "            if aLogins.value is False:\n",
    "                df9 = df9[df9.index != \"auto\"]\n",
    "                df9 = df9[df9.index != \"\"]\n",
    "            df9 = df9.sort_values('sum',ascending=False)      \n",
    "            df9 = df9.reset_index()\n",
    "            df9[\"sum\"] = round(df9[\"sum\"] / 1024 / 1024)\n",
    "            df9 = df9.drop(df9.index[50:])\n",
    "            tUrl = df9.iloc[0]['url']\n",
    "            df8['url'].replace('', 'uws', inplace=True)\n",
    "            df10 = pd.merge(left=df8,right=df9, how='left', left_on='url', right_on='url')\n",
    "            df10 = df10.sort_values('url',ascending=True)\n",
    "            df10.drop('count_x', axis=1, inplace=True)\n",
    "            df10.drop('count_y', axis=1, inplace=True)\n",
    "            df10['sum_y'].replace(np.NaN, 0.0, inplace=True)\n",
    "            df10[\"sum_x\"] = df10[\"sum_x\"] - df10[\"sum_y\"]\n",
    "            fig, ax = plt.subplots(figsize=(15,7))\n",
    "            ax.set_title('Resources Downloaded by User : '+tUser,y=1.04)\n",
    "            fig.tight_layout()\n",
    "            names = df10['url'].tolist()\n",
    "            bars1 = df10['sum_x'].tolist()\n",
    "            bars2 = df10['sum_y'].tolist()\n",
    "            plt.bar(names, bars1, color='#cccccc', edgecolor='white', width=1)\n",
    "            plt.bar(names, bars2, bottom=bars1, color='r', edgecolor='white', width=1)\n",
    "            redPatch = mpatches.Patch(color='#ff0000', label='Peak User Resources Downloaded (mb)')\n",
    "            grayPatch = mpatches.Patch(color='#cccccc', label='Other Users (mb)')\n",
    "            plt.legend(handles=[redPatch,grayPatch], fontsize=12, loc='upper right')\n",
    "            plt.xticks(fontsize=10, rotation=90)\n",
    "            plt.show();\n",
    "        with outK:\n",
    "            df11 = pd.DataFrame(data4)\n",
    "            df11 = df11[df11.user == \"UNVERIFIED\"]\n",
    "            df11 = df11.groupby(['ipaddress'], as_index=False)['size'].agg(['sum','count'])\n",
    "            df11 = df11.sort_values('count',ascending=False) \n",
    "            df11 = df11.reset_index()\n",
    "            df11 = df11.head(50)\n",
    "            fig, ax = plt.subplots(figsize=(15,7))\n",
    "            ax.set_title('UNVERIFIED Access Attempts : Hour '+aHours.value,y=1.04)\n",
    "            fig.tight_layout()\n",
    "            plt.xticks(fontsize=9, rotation=90)\n",
    "            blist = plt.bar(df11['ipaddress'],df11['count'],label='Unverified Users (http)',color='#CCCCCC')\n",
    "            blist[0].set_color('r')\n",
    "            tIpaddress = df11['ipaddress'][0]\n",
    "            redPatch = mpatches.Patch(color='#ff0000', label='Peak Unverified User (http)')\n",
    "            grayPatch = mpatches.Patch(color='#cccccc', label='Unverified Users (http)')\n",
    "            plt.legend(handles=[redPatch,grayPatch], fontsize=12, loc='upper right')\n",
    "            plt.show()\n",
    "        with outM:\n",
    "            lat = []\n",
    "            lon = []\n",
    "            city = []\n",
    "            if x != \"\":\n",
    "                url = \"http://ip-api.com/json/\" + tIpaddress\n",
    "                r = requests.get(url)\n",
    "                results = r.json()\n",
    "                if len(results) > 1:\n",
    "                    if 'lat' in results:\n",
    "                        lat.append(results['lat'])\n",
    "                        lon.append(results['lon'])\n",
    "                        city.append(results['city'])\n",
    "            if len(lon) > 0:\n",
    "                plt.figure(figsize=(19, 15))\n",
    "                m = Basemap(projection=\"lcc\", width=9E6, height=5E6, lat_0=lat[0], lon_0=lon[0])\n",
    "                m.shadedrelief()\n",
    "                for i in range(0,len(lat)):\n",
    "                    x,y = m(lon[i],lat[i])\n",
    "                    m.plot(x, y, 'or', markersize=15, alpha=1.0)\n",
    "                    plt.text(x, y, \"   \"+city[i], fontsize=11, color='black', ha='left', va='center')\n",
    "                plt.title('Location for UNVERIFIED User at '+str(tIpaddress),y=1.04)\n",
    "                plt.show();\n",
    "    except ValueError as e:\n",
    "        errorsA.append(\"Catch 7 E: \" + str(e))\n",
    "    except IOError as e:\n",
    "        errorsA.append(\"Catch 8 E: \" + str(e))\n",
    "    except:\n",
    "        errorsA.append(\"Catch 9 E: \", sys.exc_info()[0])"
   ]
  },
  {
   "cell_type": "code",
   "execution_count": 8,
   "metadata": {},
   "outputs": [
    {
     "data": {
      "application/vnd.jupyter.widget-view+json": {
       "model_id": "4c76a9644c7849679f26bbae593566dc",
       "version_major": 2,
       "version_minor": 0
      },
      "text/plain": [
       "Output(layout=Layout(border='0px solid #777777', height='2.3em', padding='0px', width='99%'))"
      ]
     },
     "metadata": {},
     "output_type": "display_data"
    },
    {
     "data": {
      "application/vnd.jupyter.widget-view+json": {
       "model_id": "59b2e5a6355c471bb4eb36cb4a2289e2",
       "version_major": 2,
       "version_minor": 0
      },
      "text/plain": [
       "HBox(children=(Output(layout=Layout(border='0px solid #777777', height='2.3em', padding='0px', width='180px'))…"
      ]
     },
     "metadata": {},
     "output_type": "display_data"
    },
    {
     "data": {
      "application/vnd.jupyter.widget-view+json": {
       "model_id": "8eebdcaffe504046bc402d137acc76ae",
       "version_major": 2,
       "version_minor": 0
      },
      "text/plain": [
       "Output(layout=Layout(border='0px solid #777777', height='600px', overflow_y='auto', padding='0px', top='25px',…"
      ]
     },
     "metadata": {},
     "output_type": "display_data"
    },
    {
     "data": {
      "application/vnd.jupyter.widget-view+json": {
       "model_id": "d5e3efd2772443f986c52fea0a7af2f8",
       "version_major": 2,
       "version_minor": 0
      },
      "text/plain": [
       "Output(layout=Layout(border='0px solid #777777', height='600px', padding='0px', top='25px', width='99%'))"
      ]
     },
     "metadata": {},
     "output_type": "display_data"
    },
    {
     "data": {
      "application/vnd.jupyter.widget-view+json": {
       "model_id": "17387397f0ab428f9ca867294b1ee881",
       "version_major": 2,
       "version_minor": 0
      },
      "text/plain": [
       "Output(layout=Layout(border='0px solid #777777', height='600px', padding='0px', top='25px', width='99%'))"
      ]
     },
     "metadata": {},
     "output_type": "display_data"
    },
    {
     "data": {
      "application/vnd.jupyter.widget-view+json": {
       "model_id": "c3da4711056943c28927de3c72fc9ef1",
       "version_major": 2,
       "version_minor": 0
      },
      "text/plain": [
       "Output(layout=Layout(border='0px solid #777777', height='600px', padding='0px', top='25px', width='99%'))"
      ]
     },
     "metadata": {},
     "output_type": "display_data"
    },
    {
     "data": {
      "application/vnd.jupyter.widget-view+json": {
       "model_id": "9cd40711a3934d9ab1721dca7d7f9e87",
       "version_major": 2,
       "version_minor": 0
      },
      "text/plain": [
       "Output(layout=Layout(border='0px solid #777777', height='600px', padding='0px', top='25px', width='99%'))"
      ]
     },
     "metadata": {},
     "output_type": "display_data"
    },
    {
     "data": {
      "application/vnd.jupyter.widget-view+json": {
       "model_id": "d6d73666bcae4517afb92f04df9ee9f8",
       "version_major": 2,
       "version_minor": 0
      },
      "text/plain": [
       "Output(layout=Layout(border='0px solid #777777', height='600px', padding='0px', top='25px', width='99%'))"
      ]
     },
     "metadata": {},
     "output_type": "display_data"
    },
    {
     "data": {
      "application/vnd.jupyter.widget-view+json": {
       "model_id": "f2df03b50dd947b08b76c99cbc9ab68c",
       "version_major": 2,
       "version_minor": 0
      },
      "text/plain": [
       "Output(layout=Layout(border='0px solid #777777', height='2.3em', padding='0px', width='99%'))"
      ]
     },
     "metadata": {},
     "output_type": "display_data"
    }
   ],
   "source": [
    "#Layout\n",
    "outZ = widgets.Output(layout={'border': '0px solid #777777', 'height':'2.3em', 'padding': '0px', 'width':'99%'})\n",
    "outZa = widgets.Output(layout={'border': '0px solid #777777', 'height':'2.3em', 'padding': '0px', 'width':'99%'})\n",
    "outA = widgets.Output(layout={'border': '0px solid #777777', 'height':'2.3em', 'padding': '0px', 'width':'270px'})\n",
    "outB = widgets.Output(layout={'border': '0px solid #777777', 'height':'2.3em', 'padding': '0px', 'width':'160px'})\n",
    "outC = widgets.Output(layout={'border': '0px solid #777777', 'height':'2.3em', 'padding': '0px', 'width':'180px'})\n",
    "outD = widgets.Output(layout={'border': '0px solid #777777', 'height':'2.3em', 'padding': '0px', 'width':'330px'})\n",
    "outF = widgets.Output(layout={'border': '0px solid #777777', 'height':'600px', 'padding': '0px', 'width':'99%', 'top':'25px', 'overflow_y':'auto'})\n",
    "outG = widgets.Output(layout={'border': '0px solid #777777', 'height':'600px', 'padding': '0px', 'width':'99%', 'top':'25px'})\n",
    "outH = widgets.Output(layout={'border': '0px solid #777777', 'height':'600px', 'padding': '0px', 'width':'99%', 'top':'25px'})\n",
    "outJ = widgets.Output(layout={'border': '0px solid #777777', 'height':'600px', 'padding': '0px', 'width':'99%', 'top':'25px'})\n",
    "outK = widgets.Output(layout={'border': '0px solid #777777', 'height':'600px', 'padding': '0px', 'width':'99%', 'top':'25px'})\n",
    "outM = widgets.Output(layout={'border': '0px solid #777777', 'height':'600px', 'padding': '0px', 'width':'99%', 'top':'25px'})\n",
    "interface = HBox([outC,outB,outA,outD])\n",
    "display(outZ)\n",
    "display(interface)\n",
    "display(outF)\n",
    "display(outG)\n",
    "display(outH)\n",
    "display(outJ)\n",
    "display(outK)\n",
    "display(outM)\n",
    "display(outZa)\n",
    "with outA:\n",
    "    clear_output()\n",
    "    display(aDates)\n",
    "with outB:\n",
    "    clear_output()\n",
    "    display(aHours)\n",
    "with outC:\n",
    "    clear_output()\n",
    "    sessdown = widgets.Button(description=\"View Use\",layout=Layout(width=\"170px\"))\n",
    "    display(sessdown)\n",
    "    sessdown.on_click(on_users)\n",
    "with outD:\n",
    "    clear_output()\n",
    "    display(aLogins)"
   ]
  },
  {
   "cell_type": "code",
   "execution_count": null,
   "metadata": {},
   "outputs": [],
   "source": []
  }
 ],
 "metadata": {
  "kernelspec": {
   "display_name": "Python 3",
   "language": "python",
   "name": "python3"
  },
  "language_info": {
   "codemirror_mode": {
    "name": "ipython",
    "version": 3
   },
   "file_extension": ".py",
   "mimetype": "text/x-python",
   "name": "python",
   "nbconvert_exporter": "python",
   "pygments_lexer": "ipython3",
   "version": "3.7.1"
  }
 },
 "nbformat": 4,
 "nbformat_minor": 2
}
